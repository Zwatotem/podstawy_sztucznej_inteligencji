{
 "cells": [
  {
   "cell_type": "code",
   "execution_count": 1,
   "metadata": {},
   "outputs": [
    {
     "name": "stdout",
     "output_type": "stream",
     "text": [
      "2.8.0\n",
      "2.8.0\n"
     ]
    }
   ],
   "source": [
    "import tensorflow as tf\n",
    "from tensorflow import keras\n",
    "print(tf.__version__)\n",
    "\n",
    "print(keras.__version__)"
   ]
  },
  {
   "cell_type": "code",
   "execution_count": 2,
   "metadata": {},
   "outputs": [],
   "source": [
    "import numpy as np\n",
    "import pandas as pd\n",
    "import matplotlib.pyplot as plt\n",
    "import os"
   ]
  },
  {
   "cell_type": "code",
   "execution_count": 3,
   "metadata": {},
   "outputs": [
    {
     "name": "stderr",
     "output_type": "stream",
     "text": [
      "C:\\Users\\zwato\\AppData\\Local\\Temp\\ipykernel_14232\\357239312.py:6: ParserWarning: Falling back to the 'python' engine because the 'c' engine does not support regex separators (separators > 1 char and different from '\\s+' are interpreted as regex); you can avoid this warning by specifying engine='python'.\n",
      "  train_set = pd.read_csv('Dane/adult/adult.data', sep=\", \",header = None)\n",
      "C:\\Users\\zwato\\AppData\\Local\\Temp\\ipykernel_14232\\357239312.py:7: ParserWarning: Falling back to the 'python' engine because the 'c' engine does not support regex separators (separators > 1 char and different from '\\s+' are interpreted as regex); you can avoid this warning by specifying engine='python'.\n",
      "  test_set = pd.read_csv('Dane/adult/adult.test', sep=\", \",skiprows = 1, header = None) # Make sure to skip a row for the test set\n"
     ]
    },
    {
     "data": {
      "text/html": [
       "<div>\n",
       "<style scoped>\n",
       "    .dataframe tbody tr th:only-of-type {\n",
       "        vertical-align: middle;\n",
       "    }\n",
       "\n",
       "    .dataframe tbody tr th {\n",
       "        vertical-align: top;\n",
       "    }\n",
       "\n",
       "    .dataframe thead th {\n",
       "        text-align: right;\n",
       "    }\n",
       "</style>\n",
       "<table border=\"1\" class=\"dataframe\">\n",
       "  <thead>\n",
       "    <tr style=\"text-align: right;\">\n",
       "      <th></th>\n",
       "      <th>age</th>\n",
       "      <th>workclass</th>\n",
       "      <th>fnlwgt</th>\n",
       "      <th>education</th>\n",
       "      <th>education_num</th>\n",
       "      <th>marital_status</th>\n",
       "      <th>occupation</th>\n",
       "      <th>relationship</th>\n",
       "      <th>race</th>\n",
       "      <th>sex</th>\n",
       "      <th>capital_gain</th>\n",
       "      <th>capital_loss</th>\n",
       "      <th>hours_per_week</th>\n",
       "      <th>native_country</th>\n",
       "      <th>wage_class</th>\n",
       "    </tr>\n",
       "  </thead>\n",
       "  <tbody>\n",
       "    <tr>\n",
       "      <th>0</th>\n",
       "      <td>39</td>\n",
       "      <td>State-gov</td>\n",
       "      <td>77516</td>\n",
       "      <td>Bachelors</td>\n",
       "      <td>13</td>\n",
       "      <td>Never-married</td>\n",
       "      <td>Adm-clerical</td>\n",
       "      <td>Not-in-family</td>\n",
       "      <td>White</td>\n",
       "      <td>Male</td>\n",
       "      <td>2174</td>\n",
       "      <td>0</td>\n",
       "      <td>40</td>\n",
       "      <td>United-States</td>\n",
       "      <td>&lt;=50K</td>\n",
       "    </tr>\n",
       "    <tr>\n",
       "      <th>1</th>\n",
       "      <td>50</td>\n",
       "      <td>Self-emp-not-inc</td>\n",
       "      <td>83311</td>\n",
       "      <td>Bachelors</td>\n",
       "      <td>13</td>\n",
       "      <td>Married-civ-spouse</td>\n",
       "      <td>Exec-managerial</td>\n",
       "      <td>Husband</td>\n",
       "      <td>White</td>\n",
       "      <td>Male</td>\n",
       "      <td>0</td>\n",
       "      <td>0</td>\n",
       "      <td>13</td>\n",
       "      <td>United-States</td>\n",
       "      <td>&lt;=50K</td>\n",
       "    </tr>\n",
       "    <tr>\n",
       "      <th>2</th>\n",
       "      <td>38</td>\n",
       "      <td>Private</td>\n",
       "      <td>215646</td>\n",
       "      <td>HS-grad</td>\n",
       "      <td>9</td>\n",
       "      <td>Divorced</td>\n",
       "      <td>Handlers-cleaners</td>\n",
       "      <td>Not-in-family</td>\n",
       "      <td>White</td>\n",
       "      <td>Male</td>\n",
       "      <td>0</td>\n",
       "      <td>0</td>\n",
       "      <td>40</td>\n",
       "      <td>United-States</td>\n",
       "      <td>&lt;=50K</td>\n",
       "    </tr>\n",
       "    <tr>\n",
       "      <th>3</th>\n",
       "      <td>53</td>\n",
       "      <td>Private</td>\n",
       "      <td>234721</td>\n",
       "      <td>11th</td>\n",
       "      <td>7</td>\n",
       "      <td>Married-civ-spouse</td>\n",
       "      <td>Handlers-cleaners</td>\n",
       "      <td>Husband</td>\n",
       "      <td>Black</td>\n",
       "      <td>Male</td>\n",
       "      <td>0</td>\n",
       "      <td>0</td>\n",
       "      <td>40</td>\n",
       "      <td>United-States</td>\n",
       "      <td>&lt;=50K</td>\n",
       "    </tr>\n",
       "    <tr>\n",
       "      <th>4</th>\n",
       "      <td>28</td>\n",
       "      <td>Private</td>\n",
       "      <td>338409</td>\n",
       "      <td>Bachelors</td>\n",
       "      <td>13</td>\n",
       "      <td>Married-civ-spouse</td>\n",
       "      <td>Prof-specialty</td>\n",
       "      <td>Wife</td>\n",
       "      <td>Black</td>\n",
       "      <td>Female</td>\n",
       "      <td>0</td>\n",
       "      <td>0</td>\n",
       "      <td>40</td>\n",
       "      <td>Cuba</td>\n",
       "      <td>&lt;=50K</td>\n",
       "    </tr>\n",
       "  </tbody>\n",
       "</table>\n",
       "</div>"
      ],
      "text/plain": [
       "   age         workclass  fnlwgt  education  education_num  \\\n",
       "0   39         State-gov   77516  Bachelors             13   \n",
       "1   50  Self-emp-not-inc   83311  Bachelors             13   \n",
       "2   38           Private  215646    HS-grad              9   \n",
       "3   53           Private  234721       11th              7   \n",
       "4   28           Private  338409  Bachelors             13   \n",
       "\n",
       "       marital_status         occupation   relationship   race     sex  \\\n",
       "0       Never-married       Adm-clerical  Not-in-family  White    Male   \n",
       "1  Married-civ-spouse    Exec-managerial        Husband  White    Male   \n",
       "2            Divorced  Handlers-cleaners  Not-in-family  White    Male   \n",
       "3  Married-civ-spouse  Handlers-cleaners        Husband  Black    Male   \n",
       "4  Married-civ-spouse     Prof-specialty           Wife  Black  Female   \n",
       "\n",
       "   capital_gain  capital_loss  hours_per_week native_country wage_class  \n",
       "0          2174             0              40  United-States      <=50K  \n",
       "1             0             0              13  United-States      <=50K  \n",
       "2             0             0              40  United-States      <=50K  \n",
       "3             0             0              40  United-States      <=50K  \n",
       "4             0             0              40           Cuba      <=50K  "
      ]
     },
     "execution_count": 3,
     "metadata": {},
     "output_type": "execute_result"
    }
   ],
   "source": [
    "# Wczytaj dane treningowe i testowe\n",
    "import numpy as np\n",
    "import matplotlib.pyplot as plt\n",
    "import pandas as pd\n",
    "\n",
    "train_set = pd.read_csv('Dane/adult/adult.data', sep=\", \",header = None)\n",
    "test_set = pd.read_csv('Dane/adult/adult.test', sep=\", \",skiprows = 1, header = None) # Make sure to skip a row for the test set\n",
    "\n",
    "col_labels = ['age', 'workclass', 'fnlwgt', 'education', 'education_num', 'marital_status', 'occupation', \n",
    "              'relationship', 'race', 'sex', 'capital_gain', 'capital_loss', 'hours_per_week', 'native_country',\n",
    "             'wage_class']\n",
    "train_set.columns = col_labels\n",
    "test_set.columns = col_labels\n",
    "\n",
    "train = train_set.replace('?', np.nan).dropna()\n",
    "test = test_set.replace('?', np.nan).dropna()\n",
    "\n",
    "train_set.head()\n"
   ]
  },
  {
   "cell_type": "markdown",
   "metadata": {},
   "source": [
    "# Zad.\n",
    "Zróbmy szybki preprocesing"
   ]
  },
  {
   "cell_type": "code",
   "execution_count": 4,
   "metadata": {},
   "outputs": [],
   "source": [
    "dataset = pd.concat([train,test])\n",
    "\n",
    "dataset['wage_class'] = dataset.wage_class.replace({'<=50K.': 0,'<=50K':0, '>50K.':1, '>50K':1})\n",
    "\n",
    "dataset.drop([\"fnlwgt\"],axis=1,inplace=True)\n",
    "\n",
    "dataset.drop([\"education\"],axis=1,inplace=True)\n",
    "\n",
    "x = dataset.groupby('native_country')[\"wage_class\"].mean()\n",
    "\n",
    "d = dict(pd.cut(x[x.index!=\" United-States\"],5,labels=range(5)))\n",
    "\n",
    "dataset['native_country'] = dataset['native_country'].replace(d)\n",
    "\n",
    "dataset = pd.get_dummies(dataset,drop_first=True)\n",
    "\n",
    "train = dataset.iloc[:train.shape[0]]\n",
    "test = dataset.iloc[train.shape[0]:]\n",
    "\n",
    "X_train = train.drop(\"wage_class\",axis=1)\n",
    "y_train = train.wage_class\n",
    "\n",
    "X_test = test.drop(\"wage_class\",axis=1)\n",
    "y_test = test.wage_class\n"
   ]
  },
  {
   "cell_type": "code",
   "execution_count": 5,
   "metadata": {},
   "outputs": [],
   "source": [
    "from keras.callbacks import ModelCheckpoint"
   ]
  },
  {
   "cell_type": "code",
   "execution_count": null,
   "metadata": {},
   "outputs": [],
   "source": []
  },
  {
   "cell_type": "code",
   "execution_count": 6,
   "metadata": {},
   "outputs": [
    {
     "name": "stdout",
     "output_type": "stream",
     "text": [
      "Model: \"sequential\"\n",
      "_________________________________________________________________\n",
      " Layer (type)                Output Shape              Param #   \n",
      "=================================================================\n",
      " dense (Dense)               (None, 100)               4200      \n",
      "                                                                 \n",
      " dense_1 (Dense)             (None, 50)                5050      \n",
      "                                                                 \n",
      " dense_2 (Dense)             (None, 10)                510       \n",
      "                                                                 \n",
      " dense_3 (Dense)             (None, 1)                 11        \n",
      "                                                                 \n",
      "=================================================================\n",
      "Total params: 9,771\n",
      "Trainable params: 9,771\n",
      "Non-trainable params: 0\n",
      "_________________________________________________________________\n"
     ]
    }
   ],
   "source": [
    "from keras.models import Sequential\n",
    "from keras.layers import Dense\n",
    "\n",
    "from keras.callbacks import History\n",
    "\n",
    "history = History()\n",
    "model = Sequential()\n",
    "model.add(Dense(100,activation=\"sigmoid\",input_shape=(X_train.shape[1],)))\n",
    "model.add(Dense(50,activation=\"sigmoid\"))\n",
    "model.add(Dense(10,activation=\"sigmoid\"))\n",
    "model.add(Dense(1,activation=\"sigmoid\"))\n",
    "model.summary()"
   ]
  },
  {
   "cell_type": "code",
   "execution_count": 7,
   "metadata": {},
   "outputs": [],
   "source": [
    "save_best_model = ModelCheckpoint(\"wagi_best.h5py\",save_best_only=True)\n",
    "model.compile(loss=\"binary_crossentropy\",optimizer=\"Adam\", metrics=[\"accuracy\"])"
   ]
  },
  {
   "cell_type": "code",
   "execution_count": 8,
   "metadata": {},
   "outputs": [
    {
     "name": "stdout",
     "output_type": "stream",
     "text": [
      "Epoch 1/100\n",
      "939/943 [============================>.] - ETA: 0s - loss: 0.4738 - accuracy: 0.7790INFO:tensorflow:Assets written to: wagi_best.h5py\\assets\n",
      "943/943 [==============================] - 9s 8ms/step - loss: 0.4737 - accuracy: 0.7790 - val_loss: 0.3907 - val_accuracy: 0.8082\n",
      "Epoch 2/100\n",
      "932/943 [============================>.] - ETA: 0s - loss: 0.3841 - accuracy: 0.8119INFO:tensorflow:Assets written to: wagi_best.h5py\\assets\n",
      "943/943 [==============================] - 8s 9ms/step - loss: 0.3844 - accuracy: 0.8117 - val_loss: 0.3761 - val_accuracy: 0.8079\n",
      "Epoch 3/100\n",
      "930/943 [============================>.] - ETA: 0s - loss: 0.3752 - accuracy: 0.8124INFO:tensorflow:Assets written to: wagi_best.h5py\\assets\n",
      "943/943 [==============================] - 8s 8ms/step - loss: 0.3756 - accuracy: 0.8121 - val_loss: 0.3750 - val_accuracy: 0.8118\n",
      "Epoch 4/100\n",
      "932/943 [============================>.] - ETA: 0s - loss: 0.3694 - accuracy: 0.8166INFO:tensorflow:Assets written to: wagi_best.h5py\\assets\n",
      "943/943 [==============================] - 10s 10ms/step - loss: 0.3693 - accuracy: 0.8165 - val_loss: 0.3670 - val_accuracy: 0.8127\n",
      "Epoch 5/100\n",
      "935/943 [============================>.] - ETA: 0s - loss: 0.3601 - accuracy: 0.8255INFO:tensorflow:Assets written to: wagi_best.h5py\\assets\n",
      "943/943 [==============================] - 7s 7ms/step - loss: 0.3601 - accuracy: 0.8257 - val_loss: 0.3507 - val_accuracy: 0.8357\n",
      "Epoch 6/100\n",
      "943/943 [==============================] - 5s 5ms/step - loss: 0.3549 - accuracy: 0.8288 - val_loss: 0.3608 - val_accuracy: 0.8326\n",
      "Epoch 7/100\n",
      "943/943 [==============================] - 5s 6ms/step - loss: 0.3583 - accuracy: 0.8256 - val_loss: 0.3612 - val_accuracy: 0.8181\n",
      "Epoch 8/100\n",
      "943/943 [==============================] - 5s 5ms/step - loss: 0.3571 - accuracy: 0.8258 - val_loss: 0.3521 - val_accuracy: 0.8257\n",
      "Epoch 9/100\n",
      "943/943 [==============================] - 4s 5ms/step - loss: 0.3655 - accuracy: 0.8157 - val_loss: 0.3690 - val_accuracy: 0.8106\n",
      "Epoch 10/100\n",
      "943/943 [==============================] - 4s 5ms/step - loss: 0.3672 - accuracy: 0.8137 - val_loss: 0.3680 - val_accuracy: 0.8095\n",
      "Epoch 11/100\n",
      "943/943 [==============================] - 4s 5ms/step - loss: 0.3641 - accuracy: 0.8153 - val_loss: 0.3674 - val_accuracy: 0.8154\n",
      "Epoch 12/100\n",
      "943/943 [==============================] - 4s 4ms/step - loss: 0.3650 - accuracy: 0.8133 - val_loss: 0.3713 - val_accuracy: 0.8120\n",
      "Epoch 13/100\n",
      "943/943 [==============================] - 5s 5ms/step - loss: 0.3648 - accuracy: 0.8157 - val_loss: 0.3659 - val_accuracy: 0.8188\n",
      "Epoch 14/100\n",
      "943/943 [==============================] - 4s 5ms/step - loss: 0.3658 - accuracy: 0.8134 - val_loss: 0.3756 - val_accuracy: 0.8066\n",
      "Epoch 15/100\n",
      "943/943 [==============================] - 4s 4ms/step - loss: 0.3674 - accuracy: 0.8131 - val_loss: 0.3726 - val_accuracy: 0.8100\n",
      "Epoch 16/100\n",
      "943/943 [==============================] - 4s 4ms/step - loss: 0.3683 - accuracy: 0.8120 - val_loss: 0.3893 - val_accuracy: 0.7969\n",
      "Epoch 17/100\n",
      "943/943 [==============================] - 3s 4ms/step - loss: 0.3694 - accuracy: 0.8135 - val_loss: 0.3776 - val_accuracy: 0.8079\n",
      "Epoch 18/100\n",
      "943/943 [==============================] - 4s 4ms/step - loss: 0.3667 - accuracy: 0.8146 - val_loss: 0.3635 - val_accuracy: 0.8167\n",
      "Epoch 19/100\n",
      "943/943 [==============================] - 4s 4ms/step - loss: 0.3651 - accuracy: 0.8150 - val_loss: 0.3636 - val_accuracy: 0.8168\n",
      "Epoch 20/100\n",
      "943/943 [==============================] - 5s 5ms/step - loss: 0.3683 - accuracy: 0.8116 - val_loss: 0.3681 - val_accuracy: 0.8127\n",
      "Epoch 21/100\n",
      "943/943 [==============================] - 5s 5ms/step - loss: 0.3666 - accuracy: 0.8138 - val_loss: 0.3654 - val_accuracy: 0.8186\n",
      "Epoch 22/100\n",
      "943/943 [==============================] - 4s 5ms/step - loss: 0.3657 - accuracy: 0.8152 - val_loss: 0.3710 - val_accuracy: 0.8087\n",
      "Epoch 23/100\n",
      "943/943 [==============================] - 4s 4ms/step - loss: 0.3648 - accuracy: 0.8157 - val_loss: 0.3655 - val_accuracy: 0.8144\n",
      "Epoch 24/100\n",
      "943/943 [==============================] - 4s 5ms/step - loss: 0.3642 - accuracy: 0.8177 - val_loss: 0.3671 - val_accuracy: 0.8178\n",
      "Epoch 25/100\n",
      "943/943 [==============================] - 4s 4ms/step - loss: 0.3661 - accuracy: 0.8149 - val_loss: 0.3687 - val_accuracy: 0.8160\n",
      "Epoch 26/100\n",
      "943/943 [==============================] - 4s 4ms/step - loss: 0.3639 - accuracy: 0.8131 - val_loss: 0.3686 - val_accuracy: 0.8092\n",
      "Epoch 27/100\n",
      "943/943 [==============================] - 4s 4ms/step - loss: 0.3652 - accuracy: 0.8132 - val_loss: 0.3720 - val_accuracy: 0.8076\n",
      "Epoch 28/100\n",
      "943/943 [==============================] - 4s 4ms/step - loss: 0.3639 - accuracy: 0.8154 - val_loss: 0.3722 - val_accuracy: 0.8090\n",
      "Epoch 29/100\n",
      "943/943 [==============================] - 4s 4ms/step - loss: 0.3634 - accuracy: 0.8157 - val_loss: 0.3638 - val_accuracy: 0.8179\n",
      "Epoch 30/100\n",
      "943/943 [==============================] - 4s 4ms/step - loss: 0.3691 - accuracy: 0.8135 - val_loss: 0.3657 - val_accuracy: 0.8182\n",
      "Epoch 31/100\n",
      "943/943 [==============================] - 5s 5ms/step - loss: 0.3653 - accuracy: 0.8145 - val_loss: 0.3640 - val_accuracy: 0.8160\n",
      "Epoch 32/100\n",
      "943/943 [==============================] - 4s 4ms/step - loss: 0.3653 - accuracy: 0.8184 - val_loss: 0.3662 - val_accuracy: 0.8170\n",
      "Epoch 33/100\n",
      "943/943 [==============================] - 4s 4ms/step - loss: 0.3675 - accuracy: 0.8131 - val_loss: 0.3664 - val_accuracy: 0.8143\n",
      "Epoch 34/100\n",
      "943/943 [==============================] - 4s 4ms/step - loss: 0.3655 - accuracy: 0.8161 - val_loss: 0.3806 - val_accuracy: 0.8011\n",
      "Epoch 35/100\n",
      "943/943 [==============================] - 4s 4ms/step - loss: 0.3648 - accuracy: 0.8144 - val_loss: 0.3690 - val_accuracy: 0.8132\n",
      "Epoch 36/100\n",
      "943/943 [==============================] - 4s 5ms/step - loss: 0.3629 - accuracy: 0.8184 - val_loss: 0.3642 - val_accuracy: 0.8173\n",
      "Epoch 37/100\n",
      "943/943 [==============================] - 4s 4ms/step - loss: 0.3650 - accuracy: 0.8157 - val_loss: 0.3716 - val_accuracy: 0.8085\n",
      "Epoch 38/100\n",
      "943/943 [==============================] - 4s 4ms/step - loss: 0.3638 - accuracy: 0.8177 - val_loss: 0.3631 - val_accuracy: 0.8181\n",
      "Epoch 39/100\n",
      "943/943 [==============================] - 4s 4ms/step - loss: 0.3619 - accuracy: 0.8152 - val_loss: 0.3630 - val_accuracy: 0.8172\n",
      "Epoch 40/100\n",
      "938/943 [============================>.] - ETA: 0s - loss: 0.3599 - accuracy: 0.8194INFO:tensorflow:Assets written to: wagi_best.h5py\\assets\n",
      "943/943 [==============================] - 5s 6ms/step - loss: 0.3597 - accuracy: 0.8194 - val_loss: 0.3504 - val_accuracy: 0.8317\n",
      "Epoch 41/100\n",
      "943/943 [==============================] - 4s 4ms/step - loss: 0.3657 - accuracy: 0.8125 - val_loss: 0.3661 - val_accuracy: 0.8171\n",
      "Epoch 42/100\n",
      "943/943 [==============================] - 4s 4ms/step - loss: 0.3658 - accuracy: 0.8160 - val_loss: 0.3724 - val_accuracy: 0.8160\n",
      "Epoch 43/100\n",
      "943/943 [==============================] - 4s 4ms/step - loss: 0.3867 - accuracy: 0.8089 - val_loss: 0.3769 - val_accuracy: 0.8108\n",
      "Epoch 44/100\n",
      "943/943 [==============================] - 4s 4ms/step - loss: 0.3728 - accuracy: 0.8101 - val_loss: 0.3829 - val_accuracy: 0.8113\n",
      "Epoch 45/100\n",
      "943/943 [==============================] - 3s 4ms/step - loss: 0.3666 - accuracy: 0.8144 - val_loss: 0.3644 - val_accuracy: 0.8156\n",
      "Epoch 46/100\n",
      "943/943 [==============================] - 4s 4ms/step - loss: 0.3640 - accuracy: 0.8155 - val_loss: 0.3673 - val_accuracy: 0.8123\n",
      "Epoch 47/100\n",
      "943/943 [==============================] - 4s 4ms/step - loss: 0.3632 - accuracy: 0.8177 - val_loss: 0.3714 - val_accuracy: 0.8084\n",
      "Epoch 48/100\n",
      "943/943 [==============================] - 4s 4ms/step - loss: 0.3606 - accuracy: 0.8213 - val_loss: 0.3666 - val_accuracy: 0.8171\n",
      "Epoch 49/100\n",
      "943/943 [==============================] - 5s 5ms/step - loss: 0.3727 - accuracy: 0.8130 - val_loss: 0.3787 - val_accuracy: 0.8125\n",
      "Epoch 50/100\n",
      "943/943 [==============================] - 4s 4ms/step - loss: 0.3701 - accuracy: 0.8160 - val_loss: 0.3731 - val_accuracy: 0.8114\n",
      "Epoch 51/100\n",
      "943/943 [==============================] - 4s 4ms/step - loss: 0.3668 - accuracy: 0.8142 - val_loss: 0.3640 - val_accuracy: 0.8180\n",
      "Epoch 52/100\n",
      "943/943 [==============================] - 4s 4ms/step - loss: 0.3673 - accuracy: 0.8141 - val_loss: 0.3665 - val_accuracy: 0.8131\n",
      "Epoch 53/100\n",
      "943/943 [==============================] - 4s 4ms/step - loss: 0.3629 - accuracy: 0.8161 - val_loss: 0.3638 - val_accuracy: 0.8168\n",
      "Epoch 54/100\n",
      "943/943 [==============================] - 4s 4ms/step - loss: 0.3643 - accuracy: 0.8160 - val_loss: 0.3754 - val_accuracy: 0.8057\n",
      "Epoch 55/100\n",
      "943/943 [==============================] - 4s 4ms/step - loss: 0.3657 - accuracy: 0.8165 - val_loss: 0.3921 - val_accuracy: 0.7935\n",
      "Epoch 56/100\n",
      "943/943 [==============================] - 4s 4ms/step - loss: 0.3692 - accuracy: 0.8119 - val_loss: 0.3679 - val_accuracy: 0.8191\n",
      "Epoch 57/100\n",
      "943/943 [==============================] - 4s 4ms/step - loss: 0.3662 - accuracy: 0.8161 - val_loss: 0.3647 - val_accuracy: 0.8174\n",
      "Epoch 58/100\n",
      "943/943 [==============================] - 4s 4ms/step - loss: 0.3648 - accuracy: 0.8158 - val_loss: 0.3676 - val_accuracy: 0.8176\n",
      "Epoch 59/100\n",
      "943/943 [==============================] - 4s 5ms/step - loss: 0.3646 - accuracy: 0.8169 - val_loss: 0.3718 - val_accuracy: 0.8084\n",
      "Epoch 60/100\n",
      "943/943 [==============================] - 4s 4ms/step - loss: 0.3706 - accuracy: 0.8144 - val_loss: 0.4113 - val_accuracy: 0.7969\n",
      "Epoch 61/100\n",
      "943/943 [==============================] - 4s 4ms/step - loss: 0.3768 - accuracy: 0.8067 - val_loss: 0.3700 - val_accuracy: 0.8141\n",
      "Epoch 62/100\n",
      "943/943 [==============================] - 4s 4ms/step - loss: 0.3663 - accuracy: 0.8132 - val_loss: 0.3683 - val_accuracy: 0.8116\n",
      "Epoch 63/100\n",
      "943/943 [==============================] - 4s 4ms/step - loss: 0.3632 - accuracy: 0.8158 - val_loss: 0.3633 - val_accuracy: 0.8162\n",
      "Epoch 64/100\n",
      "943/943 [==============================] - 4s 4ms/step - loss: 0.3635 - accuracy: 0.8147 - val_loss: 0.3627 - val_accuracy: 0.8161\n",
      "Epoch 65/100\n",
      "943/943 [==============================] - 4s 4ms/step - loss: 0.3619 - accuracy: 0.8168 - val_loss: 0.3626 - val_accuracy: 0.8175\n",
      "Epoch 66/100\n",
      "943/943 [==============================] - 4s 4ms/step - loss: 0.3620 - accuracy: 0.8160 - val_loss: 0.3682 - val_accuracy: 0.8172\n",
      "Epoch 67/100\n",
      "943/943 [==============================] - 4s 4ms/step - loss: 0.3634 - accuracy: 0.8176 - val_loss: 0.3644 - val_accuracy: 0.8191\n",
      "Epoch 68/100\n",
      "943/943 [==============================] - 4s 4ms/step - loss: 0.3621 - accuracy: 0.8172 - val_loss: 0.3622 - val_accuracy: 0.8190\n",
      "Epoch 69/100\n",
      "943/943 [==============================] - 4s 5ms/step - loss: 0.3612 - accuracy: 0.8169 - val_loss: 0.3653 - val_accuracy: 0.8140\n",
      "Epoch 70/100\n",
      "943/943 [==============================] - 4s 4ms/step - loss: 0.3616 - accuracy: 0.8172 - val_loss: 0.3633 - val_accuracy: 0.8165\n",
      "Epoch 71/100\n",
      "943/943 [==============================] - 4s 4ms/step - loss: 0.3608 - accuracy: 0.8159 - val_loss: 0.3791 - val_accuracy: 0.8056\n",
      "Epoch 72/100\n",
      "943/943 [==============================] - 4s 4ms/step - loss: 0.3619 - accuracy: 0.8162 - val_loss: 0.3638 - val_accuracy: 0.8178\n",
      "Epoch 73/100\n",
      "943/943 [==============================] - 4s 4ms/step - loss: 0.3619 - accuracy: 0.8169 - val_loss: 0.3631 - val_accuracy: 0.8167\n",
      "Epoch 74/100\n",
      "943/943 [==============================] - 4s 4ms/step - loss: 0.3624 - accuracy: 0.8162 - val_loss: 0.3685 - val_accuracy: 0.8175\n",
      "Epoch 75/100\n",
      "943/943 [==============================] - 4s 5ms/step - loss: 0.3603 - accuracy: 0.8176 - val_loss: 0.3625 - val_accuracy: 0.8171\n",
      "Epoch 76/100\n",
      "943/943 [==============================] - 4s 4ms/step - loss: 0.3608 - accuracy: 0.8173 - val_loss: 0.3670 - val_accuracy: 0.8124\n",
      "Epoch 77/100\n",
      "943/943 [==============================] - 4s 5ms/step - loss: 0.3615 - accuracy: 0.8174 - val_loss: 0.3625 - val_accuracy: 0.8179\n",
      "Epoch 78/100\n",
      "943/943 [==============================] - 4s 4ms/step - loss: 0.3625 - accuracy: 0.8147 - val_loss: 0.3630 - val_accuracy: 0.8186\n",
      "Epoch 79/100\n",
      "943/943 [==============================] - 4s 4ms/step - loss: 0.3608 - accuracy: 0.8176 - val_loss: 0.3630 - val_accuracy: 0.8165\n",
      "Epoch 80/100\n",
      "943/943 [==============================] - 4s 4ms/step - loss: 0.3610 - accuracy: 0.8164 - val_loss: 0.3642 - val_accuracy: 0.8183\n",
      "Epoch 81/100\n",
      "943/943 [==============================] - 4s 4ms/step - loss: 0.3604 - accuracy: 0.8167 - val_loss: 0.3637 - val_accuracy: 0.8156\n",
      "Epoch 82/100\n",
      "943/943 [==============================] - 4s 4ms/step - loss: 0.3603 - accuracy: 0.8158 - val_loss: 0.3689 - val_accuracy: 0.8161\n",
      "Epoch 83/100\n",
      "943/943 [==============================] - 4s 4ms/step - loss: 0.3593 - accuracy: 0.8189 - val_loss: 0.3651 - val_accuracy: 0.8173\n",
      "Epoch 84/100\n",
      "943/943 [==============================] - 4s 5ms/step - loss: 0.3594 - accuracy: 0.8179 - val_loss: 0.3677 - val_accuracy: 0.8101\n",
      "Epoch 85/100\n",
      "943/943 [==============================] - 4s 4ms/step - loss: 0.3591 - accuracy: 0.8192 - val_loss: 0.3623 - val_accuracy: 0.8166\n",
      "Epoch 86/100\n",
      "943/943 [==============================] - 4s 4ms/step - loss: 0.3594 - accuracy: 0.8184 - val_loss: 0.3620 - val_accuracy: 0.8171\n",
      "Epoch 87/100\n",
      "943/943 [==============================] - 4s 4ms/step - loss: 0.3720 - accuracy: 0.8151 - val_loss: 0.3648 - val_accuracy: 0.8177\n",
      "Epoch 88/100\n",
      "943/943 [==============================] - 4s 4ms/step - loss: 0.3629 - accuracy: 0.8160 - val_loss: 0.3662 - val_accuracy: 0.8116\n",
      "Epoch 89/100\n",
      "943/943 [==============================] - 4s 5ms/step - loss: 0.3628 - accuracy: 0.8176 - val_loss: 0.3643 - val_accuracy: 0.8169\n",
      "Epoch 90/100\n",
      "943/943 [==============================] - 4s 5ms/step - loss: 0.3615 - accuracy: 0.8166 - val_loss: 0.3677 - val_accuracy: 0.7975\n",
      "Epoch 91/100\n",
      "943/943 [==============================] - 4s 4ms/step - loss: 0.3605 - accuracy: 0.8171 - val_loss: 0.3641 - val_accuracy: 0.8173\n",
      "Epoch 92/100\n",
      "943/943 [==============================] - 4s 4ms/step - loss: 0.3613 - accuracy: 0.8171 - val_loss: 0.3674 - val_accuracy: 0.8181\n",
      "Epoch 93/100\n",
      "943/943 [==============================] - 4s 4ms/step - loss: 0.3602 - accuracy: 0.8153 - val_loss: 0.3643 - val_accuracy: 0.8142\n",
      "Epoch 94/100\n",
      "943/943 [==============================] - 4s 4ms/step - loss: 0.3593 - accuracy: 0.8183 - val_loss: 0.3636 - val_accuracy: 0.8174\n",
      "Epoch 95/100\n",
      "943/943 [==============================] - 4s 5ms/step - loss: 0.3609 - accuracy: 0.8165 - val_loss: 0.3712 - val_accuracy: 0.8166\n",
      "Epoch 96/100\n",
      "943/943 [==============================] - 4s 5ms/step - loss: 0.3650 - accuracy: 0.8148 - val_loss: 0.3777 - val_accuracy: 0.7965\n",
      "Epoch 97/100\n",
      "943/943 [==============================] - 5s 5ms/step - loss: 0.3638 - accuracy: 0.8160 - val_loss: 0.3665 - val_accuracy: 0.8166\n",
      "Epoch 98/100\n",
      "943/943 [==============================] - 4s 4ms/step - loss: 0.3623 - accuracy: 0.8185 - val_loss: 0.4063 - val_accuracy: 0.7959\n",
      "Epoch 99/100\n",
      "943/943 [==============================] - 4s 4ms/step - loss: 0.3689 - accuracy: 0.8142 - val_loss: 0.3773 - val_accuracy: 0.8161\n",
      "Epoch 100/100\n",
      "943/943 [==============================] - 4s 4ms/step - loss: 0.3774 - accuracy: 0.8119 - val_loss: 0.3693 - val_accuracy: 0.8163\n"
     ]
    }
   ],
   "source": [
    "save_best_model = ModelCheckpoint(\"wagi_best.h5py\",save_best_only=True)\n",
    "history = model.fit(X_train, y_train, validation_data= (X_test, y_test), batch_size=32,epochs=100, callbacks=[save_best_model])"
   ]
  },
  {
   "cell_type": "code",
   "execution_count": 9,
   "metadata": {},
   "outputs": [
    {
     "data": {
      "image/png": "[encoded data removed]",
      "text/plain": [
       "<Figure size 576x360 with 1 Axes>"
      ]
     },
     "metadata": {
      "needs_background": "light"
     },
     "output_type": "display_data"
    }
   ],
   "source": [
    "import pandas as pd\n",
    "\n",
    "pd.DataFrame(history.history).plot(figsize=(8, 5))\n",
    "plt.grid(True)\n",
    "plt.gca().set_ylim(0, 1)\n",
    "plt.show()"
   ]
  },
  {
   "cell_type": "code",
   "execution_count": 10,
   "metadata": {},
   "outputs": [
    {
     "name": "stdout",
     "output_type": "stream",
     "text": [
      "471/471 [==============================] - 1s 1ms/step - loss: 0.3693 - accuracy: 0.8163\n"
     ]
    },
    {
     "data": {
      "text/plain": [
       "[0.3692885637283325, 0.8163346648216248]"
      ]
     },
     "execution_count": 10,
     "metadata": {},
     "output_type": "execute_result"
    }
   ],
   "source": [
    "model.evaluate(X_test,y_test)"
   ]
  },
  {
   "cell_type": "code",
   "execution_count": 13,
   "metadata": {},
   "outputs": [
    {
     "data": {
      "text/plain": [
       "0.8163346613545817"
      ]
     },
     "execution_count": 13,
     "metadata": {},
     "output_type": "execute_result"
    }
   ],
   "source": [
    "from sklearn import metrics\n",
    "metrics.accuracy_score(y_true=y_test, y_pred=np.round(model.predict(X_test)))\n"
   ]
  },
  {
   "cell_type": "markdown",
   "metadata": {},
   "source": [
    "# Zad\n",
    "\n",
    "Wczytaj nauczony model"
   ]
  },
  {
   "cell_type": "code",
   "execution_count": 14,
   "metadata": {},
   "outputs": [
    {
     "ename": "OpError",
     "evalue": "",
     "output_type": "error",
     "traceback": [
      "\u001b[1;31m---------------------------------------------------------------------------\u001b[0m",
      "\u001b[1;31mOpError\u001b[0m                                   Traceback (most recent call last)",
      "\u001b[1;32m~\\AppData\\Local\\Temp\\ipykernel_14232\\1810858704.py\u001b[0m in \u001b[0;36m<module>\u001b[1;34m\u001b[0m\n\u001b[1;32m----> 1\u001b[1;33m \u001b[0mmodel\u001b[0m\u001b[1;33m.\u001b[0m\u001b[0mload_weights\u001b[0m\u001b[1;33m(\u001b[0m\u001b[1;34m\"wagi_best.h5py\"\u001b[0m\u001b[1;33m)\u001b[0m\u001b[1;33m\u001b[0m\u001b[1;33m\u001b[0m\u001b[0m\n\u001b[0m\u001b[0;32m      2\u001b[0m \u001b[0mmodel\u001b[0m\u001b[1;33m.\u001b[0m\u001b[0mevaluate\u001b[0m\u001b[1;33m(\u001b[0m\u001b[0mX_test\u001b[0m\u001b[1;33m,\u001b[0m\u001b[0my_test\u001b[0m\u001b[1;33m)\u001b[0m\u001b[1;33m\u001b[0m\u001b[1;33m\u001b[0m\u001b[0m\n",
      "\u001b[1;32m~\\AppData\\Local\\Packages\\PythonSoftwareFoundation.Python.3.9_qbz5n2kfra8p0\\LocalCache\\local-packages\\Python39\\site-packages\\keras\\utils\\traceback_utils.py\u001b[0m in \u001b[0;36merror_handler\u001b[1;34m(*args, **kwargs)\u001b[0m\n\u001b[0;32m     65\u001b[0m     \u001b[1;32mexcept\u001b[0m \u001b[0mException\u001b[0m \u001b[1;32mas\u001b[0m \u001b[0me\u001b[0m\u001b[1;33m:\u001b[0m  \u001b[1;31m# pylint: disable=broad-except\u001b[0m\u001b[1;33m\u001b[0m\u001b[1;33m\u001b[0m\u001b[0m\n\u001b[0;32m     66\u001b[0m       \u001b[0mfiltered_tb\u001b[0m \u001b[1;33m=\u001b[0m \u001b[0m_process_traceback_frames\u001b[0m\u001b[1;33m(\u001b[0m\u001b[0me\u001b[0m\u001b[1;33m.\u001b[0m\u001b[0m__traceback__\u001b[0m\u001b[1;33m)\u001b[0m\u001b[1;33m\u001b[0m\u001b[1;33m\u001b[0m\u001b[0m\n\u001b[1;32m---> 67\u001b[1;33m       \u001b[1;32mraise\u001b[0m \u001b[0me\u001b[0m\u001b[1;33m.\u001b[0m\u001b[0mwith_traceback\u001b[0m\u001b[1;33m(\u001b[0m\u001b[0mfiltered_tb\u001b[0m\u001b[1;33m)\u001b[0m \u001b[1;32mfrom\u001b[0m \u001b[1;32mNone\u001b[0m\u001b[1;33m\u001b[0m\u001b[1;33m\u001b[0m\u001b[0m\n\u001b[0m\u001b[0;32m     68\u001b[0m     \u001b[1;32mfinally\u001b[0m\u001b[1;33m:\u001b[0m\u001b[1;33m\u001b[0m\u001b[1;33m\u001b[0m\u001b[0m\n\u001b[0;32m     69\u001b[0m       \u001b[1;32mdel\u001b[0m \u001b[0mfiltered_tb\u001b[0m\u001b[1;33m\u001b[0m\u001b[1;33m\u001b[0m\u001b[0m\n",
      "\u001b[1;32m~\\AppData\\Local\\Packages\\PythonSoftwareFoundation.Python.3.9_qbz5n2kfra8p0\\LocalCache\\local-packages\\Python39\\site-packages\\tensorflow\\python\\training\\py_checkpoint_reader.py\u001b[0m in \u001b[0;36merror_translator\u001b[1;34m(e)\u001b[0m\n\u001b[0;32m     43\u001b[0m     \u001b[1;32mraise\u001b[0m \u001b[0merrors_impl\u001b[0m\u001b[1;33m.\u001b[0m\u001b[0mInternalError\u001b[0m\u001b[1;33m(\u001b[0m\u001b[1;32mNone\u001b[0m\u001b[1;33m,\u001b[0m \u001b[1;32mNone\u001b[0m\u001b[1;33m,\u001b[0m \u001b[0merror_message\u001b[0m\u001b[1;33m)\u001b[0m\u001b[1;33m\u001b[0m\u001b[1;33m\u001b[0m\u001b[0m\n\u001b[0;32m     44\u001b[0m   \u001b[1;32melse\u001b[0m\u001b[1;33m:\u001b[0m\u001b[1;33m\u001b[0m\u001b[1;33m\u001b[0m\u001b[0m\n\u001b[1;32m---> 45\u001b[1;33m     \u001b[1;32mraise\u001b[0m \u001b[0merrors_impl\u001b[0m\u001b[1;33m.\u001b[0m\u001b[0mOpError\u001b[0m\u001b[1;33m(\u001b[0m\u001b[1;32mNone\u001b[0m\u001b[1;33m,\u001b[0m \u001b[1;32mNone\u001b[0m\u001b[1;33m,\u001b[0m \u001b[0merror_message\u001b[0m\u001b[1;33m,\u001b[0m \u001b[0merrors_impl\u001b[0m\u001b[1;33m.\u001b[0m\u001b[0mUNKNOWN\u001b[0m\u001b[1;33m)\u001b[0m\u001b[1;33m\u001b[0m\u001b[1;33m\u001b[0m\u001b[0m\n\u001b[0m\u001b[0;32m     46\u001b[0m \u001b[1;33m\u001b[0m\u001b[0m\n\u001b[0;32m     47\u001b[0m \u001b[1;33m\u001b[0m\u001b[0m\n",
      "\u001b[1;31mOpError\u001b[0m: "
     ]
    }
   ],
   "source": [
    "model.load_weights(\"wagi_best.h5py\")\n",
    "model.evaluate(X_test,y_test)"
   ]
  },
  {
   "cell_type": "markdown",
   "metadata": {},
   "source": [
    "# Zad\n",
    "\n",
    "* Naucz dowolny model na zbiorze MNIST.\n",
    "* Zapisz optymalne parametry uczenia do pliku\n",
    "* Wczytaj dane z pliku"
   ]
  },
  {
   "cell_type": "code",
   "execution_count": null,
   "metadata": {},
   "outputs": [],
   "source": []
  }
 ],
 "metadata": {
  "interpreter": {
   "hash": "8e284ee3255a07ad8bf76694974743c4c81cb57e7c969474d752d949b11d721e"
  },
  "kernelspec": {
   "display_name": "Python 3.9.13 64-bit",
   "language": "python",
   "name": "python3"
  },
  "language_info": {
   "codemirror_mode": {
    "name": "ipython",
    "version": 3
   },
   "file_extension": ".py",
   "mimetype": "text/x-python",
   "name": "python",
   "nbconvert_exporter": "python",
   "pygments_lexer": "ipython3",
   "version": "3.9.13"
  }
 },
 "nbformat": 4,
 "nbformat_minor": 4
}
