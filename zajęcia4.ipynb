{
 "cells": [
  {
   "cell_type": "code",
   "execution_count": null,
   "metadata": {},
   "outputs": [],
   "source": [
    "###########\n",
    "import numpy as np\n",
    "import matplotlib.pyplot as plt\n",
    "#from mpl_toolkits.mplot3d import Axes3D\n",
    "from matplotlib import cm\n",
    "from mpl_toolkits.mplot3d import axes3d\n",
    "plt.close('all')\n",
    "fun = lambda x,y: x**2-y**2\n",
    "fig = plt.figure()\n",
    "ax = fig.gca(projection='3d')\n",
    "# Make data.\n",
    "X = np.arange(-5, 5, 0.25)\n",
    "Y = np.arange(-5, 5, 0.25)\n",
    "X, Y = np.meshgrid(X, Y)\n",
    "Z = fun(X, Y)\n",
    "# Plot the surface.\n",
    "surf = ax.plot_surface(X, Y, Z, cmap=cm.coolwarm,\n",
    "                       linewidth=0.01, antialiased=True, alpha=0.3)\n",
    "\n",
    "#####################################\n",
    "def step_gradient_2d(x_current, y_current, learningRate):\n",
    "    x_gradient = 2*x_current\n",
    "    y_gradient = -2*y_current\n",
    "    \n",
    "    new_x = x_current - learningRate*x_gradient\n",
    "    new_y = y_current - learningRate*y_gradient\n",
    "    \n",
    "    ax.quiver(x_current, y_current, (fun(x_current, y_current)) ,\n",
    "              - (learningRate * x_gradient), - (learningRate * y_gradient), \n",
    "              (-(fun(x_current,y_current)-fun(new_x,new_y)))) \n",
    "    \n",
    "    return [new_x, new_y]\n",
    "def gradient_descent_runner_2d(starting_x, starting_y, learning_rate, num_iterations):\n",
    "    x = starting_x\n",
    "    y = starting_y\n",
    "    for i in range(num_iterations):\n",
    "        x, y = step_gradient_2d(x, y, learning_rate)\n",
    "        print(x, y)\n",
    "    return [x, y]\n",
    "\n",
    "learning_rate = 0.2\n",
    "initial_x = 5 # initial y-intercept guess\n",
    "initial_y = 0 # initial slope guess\n",
    "num_iterations = 10\n",
    "[x, y] = gradient_descent_runner_2d(initial_x, initial_y, learning_rate, num_iterations)\n",
    "\n",
    "#####################################\n",
    "plt.plot([initial_x],[initial_y],[fun(initial_x,initial_y)],\"ok\")\n",
    "plt.show()"
   ]
  },
  {
   "cell_type": "code",
   "execution_count": null,
   "metadata": {},
   "outputs": [],
   "source": [
    "x = data[:, 0]\n",
    "y = data[:, 1]\n",
    "xmin, xmax = -1.5, 1.5ymin, ymax = -1.5, 1.5xx, yy = np.mgrid[xmin:xmax:100j, ymin:ymax:100j]\n",
    "positions = np.vstack([xx.ravel(), yy.ravel()])\n",
    "values = np.vstack([x, y])\n",
    "kernel = st.gaussian_kde(values,bw_method=0.15)\n",
    "f = np.reshape(kernel(positions).T, xx.shape)\n",
    "fig = pl.figure()\n",
    "ax = fig.gca()\n",
    "ax.set_xlim(xmin, xmax)\n",
    "ax.set_ylim(ymin, ymax)\n",
    "cfset = ax.contourf(xx, yy, f, cmap='Blues')\n",
    "cset = ax.contour(xx, yy, f, colors='k')\n",
    "ax.clabel(cset, inline=1, fontsize=10)\n",
    "ax.set_xlabel('Y1')\n",
    "ax.set_ylabel('Y0')\n",
    "pl.scatter(x, y)\n",
    "pl.show()"
   ]
  },
  {
   "cell_type": "code",
   "execution_count": null,
   "metadata": {},
   "outputs": [],
   "source": [
    "# split normal distribution pdf\n",
    "def Gpdf(x, mu, sigma):\n",
    "return 1/(sigma * (2*np.pi)**.5) *np.e ** (-(x-mu)**2/(2 * sigma**2))\n",
    "\n",
    "def MLE(x):\n",
    "mu, sigma = x\n",
    "return np.sum(np.log(Gpdf(data, mu, sigma)))\n",
    "print(MLE((0,1)))\n",
    "print(MLE((0,2)))\n",
    "print(MLE((1,1)))\n",
    "print(MLE((.5,.2))) "
   ]
  },
  {
   "cell_type": "code",
   "execution_count": null,
   "metadata": {},
   "outputs": [],
   "source": [
    "x0 = np.asarray((1, 1)) # Initial guess.\n",
    "\n",
    "res1 = optimize.fmin_cg(MLE, x0)\n",
    "print(res1)\n",
    "def MLE(x):\n",
    "mu, sigma = x\n",
    "return -np.sum(np.log(Gpdf(data, mu, np.abs(sigma) )))"
   ]
  },
  {
   "cell_type": "code",
   "execution_count": null,
   "metadata": {},
   "outputs": [],
   "source": [
    "return np.sqrt(2/np.pi) * 1/(sigma + tau) * np.concatenate([\n",
    "           np.e ** (-(left-mu)**2/(2 * sigma**2)),\n",
    "           np.e ** (-(right-mu)**2/(2 * tau**2 * sigma**2))\n",
    "    ])"
   ]
  },
  {
   "cell_type": "code",
   "execution_count": null,
   "metadata": {},
   "outputs": [],
   "source": [
    "t = np.arange(-2, 2, 0.05)\n",
    "\n",
    " \n",
    "\n",
    "mu = 0\n",
    "sigma = 1\n",
    "tau = 1\n",
    "\n",
    " \n",
    "\n",
    "fig, ax = plt.subplots(1, 1)\n",
    "ax.plot(t, gauss_split(t,mu, sigma, tau), 'g-', label='mu = 0, sigma = 1, tau = 1')\n",
    "ax.legend(loc='best', frameon=False)\n",
    "\n",
    " \n",
    "\n",
    "mu = 0\n",
    "sigma = 1\n",
    "tau = 0.5"
   ]
  },
  {
   "cell_type": "code",
   "execution_count": null,
   "metadata": {},
   "outputs": [],
   "source": [
    "ax.plot(t, gauss_split(t, mu, sigma, tau), 'r-',\n",
    "        label='mu = 0, sigma = 1, tau = 0.5')\n",
    "\n",
    "\n",
    "mu = 1\n",
    "sigma = 0.5\n",
    "tau = 1\n",
    "\n",
    "\n",
    "ax.plot(t, gauss_split(t, mu, sigma, tau), 'b-',\n",
    "        label='mu = 1, sigma = 0.5, tau = 1')\n",
    "ax.legend()\n",
    "plt.show()\n"
   ]
  }
 ],
 "metadata": {
  "language_info": {
   "name": "python"
  },
  "orig_nbformat": 4
 },
 "nbformat": 4,
 "nbformat_minor": 2
}
